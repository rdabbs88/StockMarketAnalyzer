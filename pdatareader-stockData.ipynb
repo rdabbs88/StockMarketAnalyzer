{
 "cells": [
  {
   "cell_type": "markdown",
   "id": "132e8cf8-acee-45bc-bbae-48e8c7ac289e",
   "metadata": {},
   "source": [
    "# Retrieving Stock Market Data in Python | Using pandas-datareader"
   ]
  },
  {
   "cell_type": "markdown",
   "id": "592a947c-cf6a-4e01-a156-971c52f2aab7",
   "metadata": {},
   "source": [
    "**We will be using pandas_datareader to import financial data.\n",
    "Link: https://pydata.github.io/pandas-datareader/index.html**"
   ]
  },
  {
   "cell_type": "markdown",
   "id": "84efb690-35df-4348-bc06-88fab1061b6d",
   "metadata": {},
   "source": [
    "pandas_datareader has access to the following data files (under the \"Data Readers\" tab in the above link):\n",
    "- AlphaVantage\n",
    "- Federal Reserve Economic Data (FRED)\n",
    "- Fama-French Data (Ken French's Data Library)\n",
    "- Bank of Canada\n",
    "- Econdb\n",
    "- Enigma\n",
    "- Eurostat\n",
    "- The Investors Exchange (IEX)\n",
    "- Moscow Exchange (MOEX)\n",
    "- NASDAQ\n",
    "- Naver Finance\n",
    "- Organisation for Economic Co-operation and Development (OECD)\n",
    "- Quandl\n",
    "- Stooq.com\n",
    "- Tiingo\n",
    "- Thrift Savings Plan (TSP)\n",
    "- World Bank\n",
    "- Yahoo Finance"
   ]
  },
  {
   "cell_type": "code",
   "execution_count": 1,
   "id": "f94f8f9e-0cb5-421c-bf33-79720d91fe33",
   "metadata": {},
   "outputs": [
    {
     "name": "stdout",
     "output_type": "stream",
     "text": [
      "yfinance: pandas_datareader support is deprecated & semi-broken so will be removed in a future verison. Just use yfinance.\n"
     ]
    }
   ],
   "source": [
    "import datetime as dt\n",
    "import pandas as pd\n",
    "from pandas_datareader import data as pdr\n",
    "import yfinance as yf\n",
    "yf.pdr_override()"
   ]
  },
  {
   "cell_type": "markdown",
   "id": "f82717c1-526b-495b-be5f-1074d21eafce",
   "metadata": {},
   "source": [
    "### Step 1: Select date range for stock analysis"
   ]
  },
  {
   "cell_type": "code",
   "execution_count": 2,
   "id": "32a7b10d-813a-4591-ab5e-9a1dc11d2001",
   "metadata": {},
   "outputs": [
    {
     "data": {
      "text/plain": [
       "(datetime.datetime(2010, 12, 28, 0, 53, 14, 28842),\n",
       " datetime.datetime(2024, 9, 5, 0, 53, 14, 28842))"
      ]
     },
     "execution_count": 2,
     "metadata": {},
     "output_type": "execute_result"
    }
   ],
   "source": [
    "end = dt.datetime.now()\n",
    "# Going from the end date minus 5000 days\n",
    "start = end - dt.timedelta(days=5000)\n",
    "# or alternatively if you want the data to start at a specific date\n",
    "# start = dt.datetime(2000,1,1)\n",
    "start, end"
   ]
  },
  {
   "cell_type": "markdown",
   "id": "0022e1ed-6ed1-4376-8ee1-e325e9a21ff6",
   "metadata": {},
   "source": [
    "### Step 2: Select stocks of interest"
   ]
  },
  {
   "cell_type": "code",
   "execution_count": 3,
   "id": "6c369adf-717c-4b22-95dc-3d7b03018e1d",
   "metadata": {},
   "outputs": [
    {
     "data": {
      "text/plain": [
       "['AMZN', 'AAPL', 'NKE', 'PG']"
      ]
     },
     "execution_count": 3,
     "metadata": {},
     "output_type": "execute_result"
    }
   ],
   "source": [
    "stocks = ['AMZN', 'AAPL', 'NKE', 'PG']\n",
    "stocks"
   ]
  },
  {
   "cell_type": "markdown",
   "id": "7cb05312-bdb4-4d95-a8cd-4b114406033c",
   "metadata": {},
   "source": [
    "### Step 3: Call the Pandas_Datareader DataReader module:\n",
    "Two ways of doing this:\n",
    "1. pdr.DataReader(stocks, 'yahoo', start, end)\n",
    "2. pdr.get_data_yahoo(stocks, start, end)"
   ]
  },
  {
   "cell_type": "code",
   "execution_count": 4,
   "id": "e29fa2d3-1309-438e-ba82-cbbc764ff47a",
   "metadata": {},
   "outputs": [
    {
     "name": "stderr",
     "output_type": "stream",
     "text": [
      "[*********************100%%**********************]  4 of 4 completed\n"
     ]
    },
    {
     "data": {
      "text/html": [
       "<div>\n",
       "<style scoped>\n",
       "    .dataframe tbody tr th:only-of-type {\n",
       "        vertical-align: middle;\n",
       "    }\n",
       "\n",
       "    .dataframe tbody tr th {\n",
       "        vertical-align: top;\n",
       "    }\n",
       "\n",
       "    .dataframe thead tr th {\n",
       "        text-align: left;\n",
       "    }\n",
       "\n",
       "    .dataframe thead tr:last-of-type th {\n",
       "        text-align: right;\n",
       "    }\n",
       "</style>\n",
       "<table border=\"1\" class=\"dataframe\">\n",
       "  <thead>\n",
       "    <tr>\n",
       "      <th>Price</th>\n",
       "      <th colspan=\"4\" halign=\"left\">Adj Close</th>\n",
       "      <th colspan=\"4\" halign=\"left\">Close</th>\n",
       "      <th colspan=\"2\" halign=\"left\">High</th>\n",
       "      <th>...</th>\n",
       "      <th colspan=\"2\" halign=\"left\">Low</th>\n",
       "      <th colspan=\"4\" halign=\"left\">Open</th>\n",
       "      <th colspan=\"4\" halign=\"left\">Volume</th>\n",
       "    </tr>\n",
       "    <tr>\n",
       "      <th>Ticker</th>\n",
       "      <th>AAPL</th>\n",
       "      <th>AMZN</th>\n",
       "      <th>NKE</th>\n",
       "      <th>PG</th>\n",
       "      <th>AAPL</th>\n",
       "      <th>AMZN</th>\n",
       "      <th>NKE</th>\n",
       "      <th>PG</th>\n",
       "      <th>AAPL</th>\n",
       "      <th>AMZN</th>\n",
       "      <th>...</th>\n",
       "      <th>NKE</th>\n",
       "      <th>PG</th>\n",
       "      <th>AAPL</th>\n",
       "      <th>AMZN</th>\n",
       "      <th>NKE</th>\n",
       "      <th>PG</th>\n",
       "      <th>AAPL</th>\n",
       "      <th>AMZN</th>\n",
       "      <th>NKE</th>\n",
       "      <th>PG</th>\n",
       "    </tr>\n",
       "    <tr>\n",
       "      <th>Date</th>\n",
       "      <th></th>\n",
       "      <th></th>\n",
       "      <th></th>\n",
       "      <th></th>\n",
       "      <th></th>\n",
       "      <th></th>\n",
       "      <th></th>\n",
       "      <th></th>\n",
       "      <th></th>\n",
       "      <th></th>\n",
       "      <th></th>\n",
       "      <th></th>\n",
       "      <th></th>\n",
       "      <th></th>\n",
       "      <th></th>\n",
       "      <th></th>\n",
       "      <th></th>\n",
       "      <th></th>\n",
       "      <th></th>\n",
       "      <th></th>\n",
       "      <th></th>\n",
       "    </tr>\n",
       "  </thead>\n",
       "  <tbody>\n",
       "    <tr>\n",
       "      <th>2010-12-28</th>\n",
       "      <td>9.816120</td>\n",
       "      <td>9.0545</td>\n",
       "      <td>18.301102</td>\n",
       "      <td>43.317841</td>\n",
       "      <td>11.623929</td>\n",
       "      <td>9.0545</td>\n",
       "      <td>21.582500</td>\n",
       "      <td>64.760002</td>\n",
       "      <td>11.666429</td>\n",
       "      <td>9.1385</td>\n",
       "      <td>...</td>\n",
       "      <td>21.527500</td>\n",
       "      <td>64.400002</td>\n",
       "      <td>11.639643</td>\n",
       "      <td>9.1050</td>\n",
       "      <td>21.559999</td>\n",
       "      <td>64.800003</td>\n",
       "      <td>175924000</td>\n",
       "      <td>39500000</td>\n",
       "      <td>8459600</td>\n",
       "      <td>4648400</td>\n",
       "    </tr>\n",
       "    <tr>\n",
       "      <th>2010-12-29</th>\n",
       "      <td>9.810693</td>\n",
       "      <td>9.1685</td>\n",
       "      <td>18.076387</td>\n",
       "      <td>43.077019</td>\n",
       "      <td>11.617500</td>\n",
       "      <td>9.1685</td>\n",
       "      <td>21.317499</td>\n",
       "      <td>64.400002</td>\n",
       "      <td>11.658929</td>\n",
       "      <td>9.2175</td>\n",
       "      <td>...</td>\n",
       "      <td>21.312500</td>\n",
       "      <td>64.349998</td>\n",
       "      <td>11.650714</td>\n",
       "      <td>9.0900</td>\n",
       "      <td>21.635000</td>\n",
       "      <td>64.720001</td>\n",
       "      <td>163139200</td>\n",
       "      <td>62402000</td>\n",
       "      <td>6960400</td>\n",
       "      <td>4916400</td>\n",
       "    </tr>\n",
       "    <tr>\n",
       "      <th>2010-12-30</th>\n",
       "      <td>9.761528</td>\n",
       "      <td>9.1375</td>\n",
       "      <td>18.180264</td>\n",
       "      <td>42.996765</td>\n",
       "      <td>11.559286</td>\n",
       "      <td>9.1375</td>\n",
       "      <td>21.440001</td>\n",
       "      <td>64.279999</td>\n",
       "      <td>11.625357</td>\n",
       "      <td>9.2275</td>\n",
       "      <td>...</td>\n",
       "      <td>21.280001</td>\n",
       "      <td>64.059998</td>\n",
       "      <td>11.624286</td>\n",
       "      <td>9.1960</td>\n",
       "      <td>21.325001</td>\n",
       "      <td>64.480003</td>\n",
       "      <td>157494400</td>\n",
       "      <td>39224000</td>\n",
       "      <td>5910000</td>\n",
       "      <td>3819900</td>\n",
       "    </tr>\n",
       "    <tr>\n",
       "      <th>2010-12-31</th>\n",
       "      <td>9.728355</td>\n",
       "      <td>9.0000</td>\n",
       "      <td>18.108191</td>\n",
       "      <td>43.030216</td>\n",
       "      <td>11.520000</td>\n",
       "      <td>9.0000</td>\n",
       "      <td>21.355000</td>\n",
       "      <td>64.330002</td>\n",
       "      <td>11.552857</td>\n",
       "      <td>9.1150</td>\n",
       "      <td>...</td>\n",
       "      <td>21.280001</td>\n",
       "      <td>64.010002</td>\n",
       "      <td>11.533929</td>\n",
       "      <td>9.0980</td>\n",
       "      <td>21.350000</td>\n",
       "      <td>64.080002</td>\n",
       "      <td>193508000</td>\n",
       "      <td>69038000</td>\n",
       "      <td>5796000</td>\n",
       "      <td>5245600</td>\n",
       "    </tr>\n",
       "    <tr>\n",
       "      <th>2011-01-03</th>\n",
       "      <td>9.939778</td>\n",
       "      <td>9.2110</td>\n",
       "      <td>18.250223</td>\n",
       "      <td>43.324532</td>\n",
       "      <td>11.770357</td>\n",
       "      <td>9.2110</td>\n",
       "      <td>21.522499</td>\n",
       "      <td>64.769997</td>\n",
       "      <td>11.795000</td>\n",
       "      <td>9.3000</td>\n",
       "      <td>...</td>\n",
       "      <td>21.315001</td>\n",
       "      <td>64.000000</td>\n",
       "      <td>11.630000</td>\n",
       "      <td>9.0685</td>\n",
       "      <td>21.457500</td>\n",
       "      <td>64.389999</td>\n",
       "      <td>445138400</td>\n",
       "      <td>106628000</td>\n",
       "      <td>8566400</td>\n",
       "      <td>10004000</td>\n",
       "    </tr>\n",
       "  </tbody>\n",
       "</table>\n",
       "<p>5 rows × 24 columns</p>\n",
       "</div>"
      ],
      "text/plain": [
       "Price      Adj Close                                    Close          \\\n",
       "Ticker          AAPL    AMZN        NKE         PG       AAPL    AMZN   \n",
       "Date                                                                    \n",
       "2010-12-28  9.816120  9.0545  18.301102  43.317841  11.623929  9.0545   \n",
       "2010-12-29  9.810693  9.1685  18.076387  43.077019  11.617500  9.1685   \n",
       "2010-12-30  9.761528  9.1375  18.180264  42.996765  11.559286  9.1375   \n",
       "2010-12-31  9.728355  9.0000  18.108191  43.030216  11.520000  9.0000   \n",
       "2011-01-03  9.939778  9.2110  18.250223  43.324532  11.770357  9.2110   \n",
       "\n",
       "Price                                  High          ...        Low  \\\n",
       "Ticker            NKE         PG       AAPL    AMZN  ...        NKE   \n",
       "Date                                                 ...              \n",
       "2010-12-28  21.582500  64.760002  11.666429  9.1385  ...  21.527500   \n",
       "2010-12-29  21.317499  64.400002  11.658929  9.2175  ...  21.312500   \n",
       "2010-12-30  21.440001  64.279999  11.625357  9.2275  ...  21.280001   \n",
       "2010-12-31  21.355000  64.330002  11.552857  9.1150  ...  21.280001   \n",
       "2011-01-03  21.522499  64.769997  11.795000  9.3000  ...  21.315001   \n",
       "\n",
       "Price                       Open                                   Volume  \\\n",
       "Ticker             PG       AAPL    AMZN        NKE         PG       AAPL   \n",
       "Date                                                                        \n",
       "2010-12-28  64.400002  11.639643  9.1050  21.559999  64.800003  175924000   \n",
       "2010-12-29  64.349998  11.650714  9.0900  21.635000  64.720001  163139200   \n",
       "2010-12-30  64.059998  11.624286  9.1960  21.325001  64.480003  157494400   \n",
       "2010-12-31  64.010002  11.533929  9.0980  21.350000  64.080002  193508000   \n",
       "2011-01-03  64.000000  11.630000  9.0685  21.457500  64.389999  445138400   \n",
       "\n",
       "Price                                     \n",
       "Ticker           AMZN      NKE        PG  \n",
       "Date                                      \n",
       "2010-12-28   39500000  8459600   4648400  \n",
       "2010-12-29   62402000  6960400   4916400  \n",
       "2010-12-30   39224000  5910000   3819900  \n",
       "2010-12-31   69038000  5796000   5245600  \n",
       "2011-01-03  106628000  8566400  10004000  \n",
       "\n",
       "[5 rows x 24 columns]"
      ]
     },
     "execution_count": 4,
     "metadata": {},
     "output_type": "execute_result"
    }
   ],
   "source": [
    "import yfinance as yf\n",
    "yf.pdr_override()\n",
    "#df = pdr.DataReader(stocks, 'yahoo', start, end)\n",
    "df = pdr.get_data_yahoo(stocks, start, end)\n",
    "df.head()"
   ]
  },
  {
   "cell_type": "code",
   "execution_count": null,
   "id": "ba57f705-6494-46a4-93c0-c6da67a8e69c",
   "metadata": {},
   "outputs": [],
   "source": []
  }
 ],
 "metadata": {
  "kernelspec": {
   "display_name": "Python 3 (ipykernel)",
   "language": "python",
   "name": "python3"
  },
  "language_info": {
   "codemirror_mode": {
    "name": "ipython",
    "version": 3
   },
   "file_extension": ".py",
   "mimetype": "text/x-python",
   "name": "python",
   "nbconvert_exporter": "python",
   "pygments_lexer": "ipython3",
   "version": "3.12.4"
  }
 },
 "nbformat": 4,
 "nbformat_minor": 5
}
