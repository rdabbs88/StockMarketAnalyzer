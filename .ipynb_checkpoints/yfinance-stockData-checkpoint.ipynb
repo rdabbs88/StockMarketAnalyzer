{
 "cells": [
  {
   "cell_type": "markdown",
   "id": "0d9de049-a5c8-433b-b029-fed4f0e86cdd",
   "metadata": {},
   "source": [
    "# Retrieving Stock Market Data in Python | Using yfinance"
   ]
  },
  {
   "cell_type": "code",
   "execution_count": 1,
   "id": "07692962-8008-440f-bd8d-bac2a7c95a54",
   "metadata": {},
   "outputs": [],
   "source": [
    "import yfinance as yf\n",
    "import pandas as pd\n",
    "from datetime import datetime, timedelta"
   ]
  },
  {
   "cell_type": "code",
   "execution_count": 2,
   "id": "e647f85a-6b2b-4236-954e-687fe486975b",
   "metadata": {},
   "outputs": [],
   "source": [
    "# Retrieve data for the specified stock\n",
    "stock = yf.Ticker(\"AAPL\")\n",
    "data = stock.history(start=\"2023-01-01\", end=\"2024-01-01\")"
   ]
  },
  {
   "cell_type": "markdown",
   "id": "22dd8590-6aea-4767-a1a7-de5f3111f6b0",
   "metadata": {},
   "source": [
    "### Step 1: Specify tickers of interest"
   ]
  },
  {
   "cell_type": "code",
   "execution_count": 6,
   "id": "9648d3a0-5028-4eaf-ab94-e48bf045ac1e",
   "metadata": {},
   "outputs": [
    {
     "data": {
      "text/plain": [
       "['SPY', 'BND', 'GLD', 'VTI', 'QQQ']"
      ]
     },
     "execution_count": 6,
     "metadata": {},
     "output_type": "execute_result"
    }
   ],
   "source": [
    "tickers = ['SPY', 'BND', 'GLD', 'VTI', 'QQQ']\n",
    "tickers"
   ]
  },
  {
   "cell_type": "markdown",
   "id": "93a22c2a-bcf2-427a-a3be-df266b9b0d37",
   "metadata": {},
   "source": [
    "### Step 2: Set the end date to today and start date to 2 years ago"
   ]
  },
  {
   "cell_type": "code",
   "execution_count": 4,
   "id": "167aaf21-fa20-4135-9a4d-fdbc4ddbcfc8",
   "metadata": {},
   "outputs": [
    {
     "name": "stdout",
     "output_type": "stream",
     "text": [
      "2022-09-06 01:29:53.837711\n",
      "2024-09-05 01:29:53.837711\n"
     ]
    }
   ],
   "source": [
    "end_date = datetime.today()\n",
    "start_date = end_date - timedelta(days = 2*365)\n",
    "print(start_date)\n",
    "print(end_date)"
   ]
  },
  {
   "cell_type": "markdown",
   "id": "33b47c2b-5e1f-4022-93ed-495c6afb293a",
   "metadata": {},
   "source": [
    "### Step 3: Download Close Prices for tickers"
   ]
  },
  {
   "cell_type": "code",
   "execution_count": 7,
   "id": "0f731809-2308-47bc-8262-241590080adf",
   "metadata": {},
   "outputs": [
    {
     "name": "stderr",
     "output_type": "stream",
     "text": [
      "[*********************100%%**********************]  1 of 1 completed\n",
      "[*********************100%%**********************]  1 of 1 completed\n",
      "[*********************100%%**********************]  1 of 1 completed\n",
      "[*********************100%%**********************]  1 of 1 completed\n",
      "[*********************100%%**********************]  1 of 1 completed\n"
     ]
    }
   ],
   "source": [
    "close_df = pd.DataFrame()\n",
    "\n",
    "for ticker in tickers:\n",
    "    data = yf.download(ticker, start=start_date, end=end_date)\n",
    "    close_df[ticker] = data['Close']"
   ]
  },
  {
   "cell_type": "code",
   "execution_count": 8,
   "id": "ae503110-a707-402b-b4c4-55966c2b21d7",
   "metadata": {},
   "outputs": [
    {
     "name": "stdout",
     "output_type": "stream",
     "text": [
      "                   SPY        BND         GLD         VTI         QQQ\n",
      "Date                                                                 \n",
      "2022-09-06  390.760010  73.559998  158.330002  195.910004  293.049988\n",
      "2022-09-07  397.779999  74.089996  159.940002  199.529999  298.970001\n",
      "2022-09-08  400.380005  73.860001  158.979996  201.110001  300.519989\n",
      "2022-09-09  406.600006  73.830002  159.820007  204.449997  307.089996\n",
      "2022-09-12  410.970001  73.739998  160.630005  206.649994  310.739990\n",
      "...                ...        ...         ...         ...         ...\n",
      "2024-08-28  558.299988  74.620003  231.750000  275.450012  471.350006\n",
      "2024-08-29  558.349976  74.510002  232.949997  275.720001  470.660004\n",
      "2024-08-30  563.679993  74.360001  231.289993  278.380005  476.269989\n",
      "2024-09-03  552.080017  74.449997  230.289993  272.390015  461.809998\n",
      "2024-09-04  550.950012  74.779999  230.429993  271.779999  460.609985\n",
      "\n",
      "[502 rows x 5 columns]\n"
     ]
    }
   ],
   "source": [
    "print(close_df)"
   ]
  },
  {
   "cell_type": "code",
   "execution_count": null,
   "id": "a3bba0c2-5c0b-4fee-97b6-8360ff54ff22",
   "metadata": {},
   "outputs": [],
   "source": []
  }
 ],
 "metadata": {
  "kernelspec": {
   "display_name": "Python 3 (ipykernel)",
   "language": "python",
   "name": "python3"
  },
  "language_info": {
   "codemirror_mode": {
    "name": "ipython",
    "version": 3
   },
   "file_extension": ".py",
   "mimetype": "text/x-python",
   "name": "python",
   "nbconvert_exporter": "python",
   "pygments_lexer": "ipython3",
   "version": "3.12.4"
  }
 },
 "nbformat": 4,
 "nbformat_minor": 5
}
