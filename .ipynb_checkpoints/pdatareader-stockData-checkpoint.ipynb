{
 "cells": [
  {
   "cell_type": "markdown",
   "id": "132e8cf8-acee-45bc-bbae-48e8c7ac289e",
   "metadata": {},
   "source": [
    "# Retrieving Stock Market Data in Python"
   ]
  },
  {
   "cell_type": "markdown",
   "id": "592a947c-cf6a-4e01-a156-971c52f2aab7",
   "metadata": {},
   "source": [
    "**We will be using pandas_datareader to import financial data.\n",
    "Link: https://pydata.github.io/pandas-datareader/index.html**"
   ]
  },
  {
   "cell_type": "markdown",
   "id": "84efb690-35df-4348-bc06-88fab1061b6d",
   "metadata": {},
   "source": [
    "pandas_datareader has access to the following data files (under the \"Data Readers\" tab in the above link):\n",
    "- AlphaVantage\n",
    "- Federal Reserve Economic Data (FRED)\n",
    "- Fama-French Data (Ken French's Data Library)\n",
    "- Bank of Canada\n",
    "- Econdb\n",
    "- Enigma\n",
    "- Eurostat\n",
    "- The Investors Exchange (IEX)\n",
    "- Moscow Exchange (MOEX)\n",
    "- NASDAQ\n",
    "- Naver Finance\n",
    "- Organisation for Economic Co-operation and Development (OECD)\n",
    "- Quandl\n",
    "- Stooq.com\n",
    "- Tiingo\n",
    "- Thrift Savings Plan (TSP)\n",
    "- World Bank\n",
    "- Yahoo Finance"
   ]
  },
  {
   "cell_type": "code",
   "execution_count": null,
   "id": "f94f8f9e-0cb5-421c-bf33-79720d91fe33",
   "metadata": {},
   "outputs": [],
   "source": []
  }
 ],
 "metadata": {
  "kernelspec": {
   "display_name": "Python 3 (ipykernel)",
   "language": "python",
   "name": "python3"
  },
  "language_info": {
   "codemirror_mode": {
    "name": "ipython",
    "version": 3
   },
   "file_extension": ".py",
   "mimetype": "text/x-python",
   "name": "python",
   "nbconvert_exporter": "python",
   "pygments_lexer": "ipython3",
   "version": "3.12.4"
  }
 },
 "nbformat": 4,
 "nbformat_minor": 5
}
