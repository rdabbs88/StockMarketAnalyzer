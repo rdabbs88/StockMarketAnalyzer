{
 "cells": [
  {
   "cell_type": "markdown",
   "id": "0d9de049-a5c8-433b-b029-fed4f0e86cdd",
   "metadata": {},
   "source": [
    "# Retrieving Stock Market Data in Python | Using yfinance"
   ]
  },
  {
   "cell_type": "code",
   "execution_count": 1,
   "id": "07692962-8008-440f-bd8d-bac2a7c95a54",
   "metadata": {},
   "outputs": [],
   "source": [
    "import yfinance as yf\n",
    "import pandas as pd\n",
    "from datetime import datetime, timedelta"
   ]
  },
  {
   "cell_type": "code",
   "execution_count": 3,
   "id": "e647f85a-6b2b-4236-954e-687fe486975b",
   "metadata": {},
   "outputs": [
    {
     "data": {
      "text/html": [
       "<div>\n",
       "<style scoped>\n",
       "    .dataframe tbody tr th:only-of-type {\n",
       "        vertical-align: middle;\n",
       "    }\n",
       "\n",
       "    .dataframe tbody tr th {\n",
       "        vertical-align: top;\n",
       "    }\n",
       "\n",
       "    .dataframe thead th {\n",
       "        text-align: right;\n",
       "    }\n",
       "</style>\n",
       "<table border=\"1\" class=\"dataframe\">\n",
       "  <thead>\n",
       "    <tr style=\"text-align: right;\">\n",
       "      <th></th>\n",
       "      <th>Open</th>\n",
       "      <th>High</th>\n",
       "      <th>Low</th>\n",
       "      <th>Close</th>\n",
       "      <th>Volume</th>\n",
       "      <th>Dividends</th>\n",
       "      <th>Stock Splits</th>\n",
       "    </tr>\n",
       "    <tr>\n",
       "      <th>Date</th>\n",
       "      <th></th>\n",
       "      <th></th>\n",
       "      <th></th>\n",
       "      <th></th>\n",
       "      <th></th>\n",
       "      <th></th>\n",
       "      <th></th>\n",
       "    </tr>\n",
       "  </thead>\n",
       "  <tbody>\n",
       "    <tr>\n",
       "      <th>2023-01-03 00:00:00-05:00</th>\n",
       "      <td>129.066078</td>\n",
       "      <td>129.680297</td>\n",
       "      <td>123.013009</td>\n",
       "      <td>123.904625</td>\n",
       "      <td>112117500</td>\n",
       "      <td>0.0</td>\n",
       "      <td>0.0</td>\n",
       "    </tr>\n",
       "    <tr>\n",
       "      <th>2023-01-04 00:00:00-05:00</th>\n",
       "      <td>125.707670</td>\n",
       "      <td>127.461182</td>\n",
       "      <td>123.914537</td>\n",
       "      <td>125.182610</td>\n",
       "      <td>89113600</td>\n",
       "      <td>0.0</td>\n",
       "      <td>0.0</td>\n",
       "    </tr>\n",
       "    <tr>\n",
       "      <th>2023-01-05 00:00:00-05:00</th>\n",
       "      <td>125.945435</td>\n",
       "      <td>126.579471</td>\n",
       "      <td>123.597523</td>\n",
       "      <td>123.855095</td>\n",
       "      <td>80962700</td>\n",
       "      <td>0.0</td>\n",
       "      <td>0.0</td>\n",
       "    </tr>\n",
       "    <tr>\n",
       "      <th>2023-01-06 00:00:00-05:00</th>\n",
       "      <td>124.835905</td>\n",
       "      <td>129.076017</td>\n",
       "      <td>123.726338</td>\n",
       "      <td>128.412262</td>\n",
       "      <td>87754700</td>\n",
       "      <td>0.0</td>\n",
       "      <td>0.0</td>\n",
       "    </tr>\n",
       "    <tr>\n",
       "      <th>2023-01-09 00:00:00-05:00</th>\n",
       "      <td>129.254327</td>\n",
       "      <td>132.166936</td>\n",
       "      <td>128.679730</td>\n",
       "      <td>128.937302</td>\n",
       "      <td>70790800</td>\n",
       "      <td>0.0</td>\n",
       "      <td>0.0</td>\n",
       "    </tr>\n",
       "    <tr>\n",
       "      <th>...</th>\n",
       "      <td>...</td>\n",
       "      <td>...</td>\n",
       "      <td>...</td>\n",
       "      <td>...</td>\n",
       "      <td>...</td>\n",
       "      <td>...</td>\n",
       "      <td>...</td>\n",
       "    </tr>\n",
       "    <tr>\n",
       "      <th>2023-12-22 00:00:00-05:00</th>\n",
       "      <td>194.442147</td>\n",
       "      <td>194.671289</td>\n",
       "      <td>192.240510</td>\n",
       "      <td>192.868134</td>\n",
       "      <td>37122800</td>\n",
       "      <td>0.0</td>\n",
       "      <td>0.0</td>\n",
       "    </tr>\n",
       "    <tr>\n",
       "      <th>2023-12-26 00:00:00-05:00</th>\n",
       "      <td>192.878102</td>\n",
       "      <td>193.157042</td>\n",
       "      <td>192.101051</td>\n",
       "      <td>192.320221</td>\n",
       "      <td>28919300</td>\n",
       "      <td>0.0</td>\n",
       "      <td>0.0</td>\n",
       "    </tr>\n",
       "    <tr>\n",
       "      <th>2023-12-27 00:00:00-05:00</th>\n",
       "      <td>191.762337</td>\n",
       "      <td>192.768513</td>\n",
       "      <td>190.367620</td>\n",
       "      <td>192.419830</td>\n",
       "      <td>48087700</td>\n",
       "      <td>0.0</td>\n",
       "      <td>0.0</td>\n",
       "    </tr>\n",
       "    <tr>\n",
       "      <th>2023-12-28 00:00:00-05:00</th>\n",
       "      <td>193.406101</td>\n",
       "      <td>193.924140</td>\n",
       "      <td>192.439767</td>\n",
       "      <td>192.848221</td>\n",
       "      <td>34049900</td>\n",
       "      <td>0.0</td>\n",
       "      <td>0.0</td>\n",
       "    </tr>\n",
       "    <tr>\n",
       "      <th>2023-12-29 00:00:00-05:00</th>\n",
       "      <td>193.167001</td>\n",
       "      <td>193.665111</td>\n",
       "      <td>191.005206</td>\n",
       "      <td>191.802185</td>\n",
       "      <td>42628800</td>\n",
       "      <td>0.0</td>\n",
       "      <td>0.0</td>\n",
       "    </tr>\n",
       "  </tbody>\n",
       "</table>\n",
       "<p>250 rows × 7 columns</p>\n",
       "</div>"
      ],
      "text/plain": [
       "                                 Open        High         Low       Close  \\\n",
       "Date                                                                        \n",
       "2023-01-03 00:00:00-05:00  129.066078  129.680297  123.013009  123.904625   \n",
       "2023-01-04 00:00:00-05:00  125.707670  127.461182  123.914537  125.182610   \n",
       "2023-01-05 00:00:00-05:00  125.945435  126.579471  123.597523  123.855095   \n",
       "2023-01-06 00:00:00-05:00  124.835905  129.076017  123.726338  128.412262   \n",
       "2023-01-09 00:00:00-05:00  129.254327  132.166936  128.679730  128.937302   \n",
       "...                               ...         ...         ...         ...   \n",
       "2023-12-22 00:00:00-05:00  194.442147  194.671289  192.240510  192.868134   \n",
       "2023-12-26 00:00:00-05:00  192.878102  193.157042  192.101051  192.320221   \n",
       "2023-12-27 00:00:00-05:00  191.762337  192.768513  190.367620  192.419830   \n",
       "2023-12-28 00:00:00-05:00  193.406101  193.924140  192.439767  192.848221   \n",
       "2023-12-29 00:00:00-05:00  193.167001  193.665111  191.005206  191.802185   \n",
       "\n",
       "                              Volume  Dividends  Stock Splits  \n",
       "Date                                                           \n",
       "2023-01-03 00:00:00-05:00  112117500        0.0           0.0  \n",
       "2023-01-04 00:00:00-05:00   89113600        0.0           0.0  \n",
       "2023-01-05 00:00:00-05:00   80962700        0.0           0.0  \n",
       "2023-01-06 00:00:00-05:00   87754700        0.0           0.0  \n",
       "2023-01-09 00:00:00-05:00   70790800        0.0           0.0  \n",
       "...                              ...        ...           ...  \n",
       "2023-12-22 00:00:00-05:00   37122800        0.0           0.0  \n",
       "2023-12-26 00:00:00-05:00   28919300        0.0           0.0  \n",
       "2023-12-27 00:00:00-05:00   48087700        0.0           0.0  \n",
       "2023-12-28 00:00:00-05:00   34049900        0.0           0.0  \n",
       "2023-12-29 00:00:00-05:00   42628800        0.0           0.0  \n",
       "\n",
       "[250 rows x 7 columns]"
      ]
     },
     "execution_count": 3,
     "metadata": {},
     "output_type": "execute_result"
    }
   ],
   "source": [
    "# Retrieve data for the specified stock\n",
    "stock = yf.Ticker(\"AAPL\")\n",
    "data = stock.history(start=\"2023-01-01\", end=\"2024-01-01\")\n",
    "data"
   ]
  },
  {
   "cell_type": "markdown",
   "id": "22dd8590-6aea-4767-a1a7-de5f3111f6b0",
   "metadata": {},
   "source": [
    "### Step 1: Specify tickers of interest"
   ]
  },
  {
   "cell_type": "code",
   "execution_count": 6,
   "id": "9648d3a0-5028-4eaf-ab94-e48bf045ac1e",
   "metadata": {},
   "outputs": [
    {
     "data": {
      "text/plain": [
       "['SPY', 'BND', 'GLD', 'VTI', 'QQQ']"
      ]
     },
     "execution_count": 6,
     "metadata": {},
     "output_type": "execute_result"
    }
   ],
   "source": [
    "tickers = ['SPY', 'BND', 'GLD', 'VTI', 'QQQ']\n",
    "tickers"
   ]
  },
  {
   "cell_type": "markdown",
   "id": "93a22c2a-bcf2-427a-a3be-df266b9b0d37",
   "metadata": {},
   "source": [
    "### Step 2: Set the end date to today and start date to 2 years ago"
   ]
  },
  {
   "cell_type": "code",
   "execution_count": 4,
   "id": "167aaf21-fa20-4135-9a4d-fdbc4ddbcfc8",
   "metadata": {},
   "outputs": [
    {
     "name": "stdout",
     "output_type": "stream",
     "text": [
      "2022-09-06 01:29:53.837711\n",
      "2024-09-05 01:29:53.837711\n"
     ]
    }
   ],
   "source": [
    "end_date = datetime.today()\n",
    "start_date = end_date - timedelta(days = 2*365)\n",
    "print(start_date)\n",
    "print(end_date)"
   ]
  },
  {
   "cell_type": "markdown",
   "id": "33b47c2b-5e1f-4022-93ed-495c6afb293a",
   "metadata": {},
   "source": [
    "### Step 3: Download Close Prices for tickers"
   ]
  },
  {
   "cell_type": "code",
   "execution_count": 7,
   "id": "0f731809-2308-47bc-8262-241590080adf",
   "metadata": {},
   "outputs": [
    {
     "name": "stderr",
     "output_type": "stream",
     "text": [
      "[*********************100%%**********************]  1 of 1 completed\n",
      "[*********************100%%**********************]  1 of 1 completed\n",
      "[*********************100%%**********************]  1 of 1 completed\n",
      "[*********************100%%**********************]  1 of 1 completed\n",
      "[*********************100%%**********************]  1 of 1 completed\n"
     ]
    }
   ],
   "source": [
    "close_df = pd.DataFrame()\n",
    "\n",
    "for ticker in tickers:\n",
    "    data = yf.download(ticker, start=start_date, end=end_date)\n",
    "    close_df[ticker] = data['Close']"
   ]
  },
  {
   "cell_type": "code",
   "execution_count": 8,
   "id": "ae503110-a707-402b-b4c4-55966c2b21d7",
   "metadata": {},
   "outputs": [
    {
     "name": "stdout",
     "output_type": "stream",
     "text": [
      "                   SPY        BND         GLD         VTI         QQQ\n",
      "Date                                                                 \n",
      "2022-09-06  390.760010  73.559998  158.330002  195.910004  293.049988\n",
      "2022-09-07  397.779999  74.089996  159.940002  199.529999  298.970001\n",
      "2022-09-08  400.380005  73.860001  158.979996  201.110001  300.519989\n",
      "2022-09-09  406.600006  73.830002  159.820007  204.449997  307.089996\n",
      "2022-09-12  410.970001  73.739998  160.630005  206.649994  310.739990\n",
      "...                ...        ...         ...         ...         ...\n",
      "2024-08-28  558.299988  74.620003  231.750000  275.450012  471.350006\n",
      "2024-08-29  558.349976  74.510002  232.949997  275.720001  470.660004\n",
      "2024-08-30  563.679993  74.360001  231.289993  278.380005  476.269989\n",
      "2024-09-03  552.080017  74.449997  230.289993  272.390015  461.809998\n",
      "2024-09-04  550.950012  74.779999  230.429993  271.779999  460.609985\n",
      "\n",
      "[502 rows x 5 columns]\n"
     ]
    }
   ],
   "source": [
    "print(close_df)"
   ]
  },
  {
   "cell_type": "code",
   "execution_count": null,
   "id": "a3bba0c2-5c0b-4fee-97b6-8360ff54ff22",
   "metadata": {},
   "outputs": [],
   "source": []
  }
 ],
 "metadata": {
  "kernelspec": {
   "display_name": "Python 3 (ipykernel)",
   "language": "python",
   "name": "python3"
  },
  "language_info": {
   "codemirror_mode": {
    "name": "ipython",
    "version": 3
   },
   "file_extension": ".py",
   "mimetype": "text/x-python",
   "name": "python",
   "nbconvert_exporter": "python",
   "pygments_lexer": "ipython3",
   "version": "3.12.4"
  }
 },
 "nbformat": 4,
 "nbformat_minor": 5
}
